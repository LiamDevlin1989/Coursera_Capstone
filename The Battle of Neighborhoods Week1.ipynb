{
 "cells": [
  {
   "cell_type": "markdown",
   "metadata": {},
   "source": [
    "# Capstone Project - The Battle of Neighborhoods Week 1"
   ]
  },
  {
   "cell_type": "markdown",
   "metadata": {},
   "source": [
    "### Part 1"
   ]
  },
  {
   "cell_type": "markdown",
   "metadata": {},
   "source": [
    "### Depiction of the problem:\n",
    "\n",
    "Toronto's competitive gastronomy scene is an amazing one as it is a clash of different chefs and restauranteurs who always bring individuals brand-new places and cuisines to try. But, where is the leading place to open up a Mexican restaurant within the noteworthy Toronto Area? \n",
    "As a result of a constantly growing population of Toronto, diversity of nations, and increasing demand for new cuisine experience, but also recognizing the fact that opening a restaurant requires significant investment, it would appear to be a great choice to open up a Mexican restaurant within the core of the city. The question to be answered at that point is, which neighborhoods in Downtown Toronto would be the best choice.\n",
    "\n",
    "\n",
    "### Discussion of the background:\n",
    "Let's assume that the research has been requested by a prosperous and fruitful restauranteur from Mexico who is keen on extending trade operations into Toronto. He needs to make a genuine Mexican restaurant that will serve and offer the complete lavishness of Mexican culture and cooking to the individuals of Downtown Toronto. \n",
    "Since Downtown Toronto is exceptionally ambitious in terms of the restaurant domain, my client needs an understanding of the market in order to choose in which neighborhood to set up this trustworthy Mexican diner."
   ]
  },
  {
   "cell_type": "markdown",
   "metadata": {},
   "source": [
    "### Part 2"
   ]
  },
  {
   "cell_type": "markdown",
   "metadata": {},
   "source": [
    "### Description of the data:\n",
    "The project will utilize freely accessible information from Wikipedia and Foursquare. Precisely, all Toronto neighborhood complex elements besides their postal codes are accessible here: https://en.wikipedia.org/wiki/List_of_postal_codes_of_Canada:_M. The center of this venture will be the Downtown Toronto neighborhoods that will be analyzed accordingly.  The Foursquare API will be used to get the geological area information for Downtown Toronto, and data will be utilized to investigate the eatery within the neighborhoods. The restaurants will give the categories required for the investigation and these will be utilized to decide the reasonability of the chosen areas for the Mexican food establishment.\n",
    "\n",
    "\n",
    "### How information will be utilized to find a solution:\n",
    "The information from Wikipedia and Foursquare will be investigated and analyzed by restaurants in Downtown Toronto. The eateries from the center of the city will be checked on in terms of the sorts of categories of eateries inside a particular radius. The information will be utilized to come up with a recurrence examination for a Mexican restaurant in Downtown Toronto and to come up with the most accurate choices of neighborhoods for the client."
   ]
  },
  {
   "cell_type": "code",
   "execution_count": null,
   "metadata": {},
   "outputs": [],
   "source": []
  }
 ],
 "metadata": {
  "kernelspec": {
   "display_name": "Python",
   "language": "python",
   "name": "conda-env-python-py"
  },
  "language_info": {
   "codemirror_mode": {
    "name": "ipython",
    "version": 3
   },
   "file_extension": ".py",
   "mimetype": "text/x-python",
   "name": "python",
   "nbconvert_exporter": "python",
   "pygments_lexer": "ipython3",
   "version": "3.6.7"
  }
 },
 "nbformat": 4,
 "nbformat_minor": 4
}
